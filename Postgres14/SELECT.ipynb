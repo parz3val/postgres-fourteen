{
    "metadata": {
        "kernelspec": {
            "name": "SQL",
            "display_name": "SQL",
            "language": "sql"
        },
        "language_info": {
            "name": "sql",
            "version": ""
        }
    },
    "nbformat_minor": 2,
    "nbformat": 4,
    "cells": [
        {
            "cell_type": "markdown",
            "source": [
                "**SELECT statement :: The method of data query from table**\n",
                "\n",
                "<span style=\"caret-color: rgb(13, 10, 11); color: rgb(13, 10, 11); font-family: &quot;Open Sans&quot;, sans-serif; font-size: 14.4px; text-size-adjust: auto;\">To retrieve data from a table, the table is<span class=\"Apple-converted-space\" style=\"\">&nbsp;</span></span> _queried_<span style=\"caret-color: rgb(13, 10, 11); color: rgb(13, 10, 11); font-family: &quot;Open Sans&quot;, sans-serif; font-size: 14.4px; text-size-adjust: auto;\">. An<span class=\"Apple-converted-space\">&nbsp;</span></span> SQL `SELECT` <span style=\"caret-color: rgb(13, 10, 11); color: rgb(13, 10, 11); font-family: &quot;Open Sans&quot;, sans-serif; font-size: 14.4px; text-size-adjust: auto;\"><span class=\"Apple-converted-space\">&nbsp;</span>statement is used to do this. The statement is divided into a select list (the part that lists the columns to be returned), a table list (the part that lists the tables from which to retrieve the data), and an optional qualification (the part that specifies any restrictions). For example, to retrieve all the rows of table<span class=\"Apple-converted-space\">&nbsp;</span></span> `weather`<span style=\"caret-color: rgb(13, 10, 11); color: rgb(13, 10, 11); font-family: &quot;Open Sans&quot;, sans-serif; font-size: 14.4px; text-size-adjust: auto;\">, type:</span>"
            ],
            "metadata": {
                "azdata_cell_guid": "35a33e21-1f46-4b1a-8a94-4dfeca7d5dfe"
            },
            "attachments": {}
        },
        {
            "cell_type": "code",
            "source": [
                "SELECT * from weather;"
            ],
            "metadata": {
                "azdata_cell_guid": "d2485c47-34fd-4e58-9d30-4d335ff30240"
            },
            "outputs": [
                {
                    "output_type": "display_data",
                    "data": {
                        "text/html": "(2 row(s) affected)"
                    },
                    "metadata": {}
                },
                {
                    "output_type": "display_data",
                    "data": {
                        "text/html": "Total execution time: 00:00:00.002"
                    },
                    "metadata": {}
                },
                {
                    "output_type": "execute_result",
                    "metadata": {
                        "azdata_chartOptions": {
                            "type": "scatter",
                            "dataDirection": "horizontal",
                            "columnsAsLabels": true,
                            "labelFirstColumn": false,
                            "legendPosition": "top"
                        }
                    },
                    "execution_count": 1,
                    "data": {
                        "application/vnd.dataresource+json": {
                            "schema": {
                                "fields": [
                                    {
                                        "name": "city"
                                    },
                                    {
                                        "name": "temp_lo"
                                    },
                                    {
                                        "name": "temp_hi"
                                    },
                                    {
                                        "name": "prcp"
                                    },
                                    {
                                        "name": "date"
                                    }
                                ]
                            },
                            "data": [
                                {
                                    "0": "San Francisco",
                                    "1": "46",
                                    "2": "50",
                                    "3": "0.25",
                                    "4": "1994-11-27"
                                },
                                {
                                    "0": "Kathmandu",
                                    "1": "41",
                                    "2": "42",
                                    "3": "12.0",
                                    "4": "2022-12-11"
                                }
                            ]
                        },
                        "text/html": [
                            "<table>",
                            "<tr><th>city</th><th>temp_lo</th><th>temp_hi</th><th>prcp</th><th>date</th></tr>",
                            "<tr><td>San Francisco</td><td>46</td><td>50</td><td>0.25</td><td>1994-11-27</td></tr>",
                            "<tr><td>Kathmandu</td><td>41</td><td>42</td><td>12.0</td><td>2022-12-11</td></tr>",
                            "</table>"
                        ]
                    }
                }
            ],
            "execution_count": 1
        },
        {
            "cell_type": "code",
            "source": [
                "-- we can just query specific fields we want.SELECT\n",
                "SELECT city, date from weather;\n",
                "-- * is shorthand for selecting all\n",
                "SELECT city, temp_lo, temp_hi, prcp, date from weather;"
            ],
            "metadata": {
                "azdata_cell_guid": "118304ef-7f3a-415e-a91b-0e063d1cbfc7"
            },
            "outputs": [
                {
                    "output_type": "display_data",
                    "data": {
                        "text/html": "(2 row(s) affected)"
                    },
                    "metadata": {}
                },
                {
                    "output_type": "display_data",
                    "data": {
                        "text/html": "(2 row(s) affected)"
                    },
                    "metadata": {}
                },
                {
                    "output_type": "display_data",
                    "data": {
                        "text/html": "Total execution time: 00:00:00.003"
                    },
                    "metadata": {}
                },
                {
                    "output_type": "execute_result",
                    "metadata": {},
                    "execution_count": 3,
                    "data": {
                        "application/vnd.dataresource+json": {
                            "schema": {
                                "fields": [
                                    {
                                        "name": "city"
                                    },
                                    {
                                        "name": "date"
                                    }
                                ]
                            },
                            "data": [
                                {
                                    "0": "San Francisco",
                                    "1": "1994-11-27"
                                },
                                {
                                    "0": "Kathmandu",
                                    "1": "2022-12-11"
                                }
                            ]
                        },
                        "text/html": [
                            "<table>",
                            "<tr><th>city</th><th>date</th></tr>",
                            "<tr><td>San Francisco</td><td>1994-11-27</td></tr>",
                            "<tr><td>Kathmandu</td><td>2022-12-11</td></tr>",
                            "</table>"
                        ]
                    }
                },
                {
                    "output_type": "execute_result",
                    "metadata": {},
                    "execution_count": 3,
                    "data": {
                        "application/vnd.dataresource+json": {
                            "schema": {
                                "fields": [
                                    {
                                        "name": "city"
                                    },
                                    {
                                        "name": "temp_lo"
                                    },
                                    {
                                        "name": "temp_hi"
                                    },
                                    {
                                        "name": "prcp"
                                    },
                                    {
                                        "name": "date"
                                    }
                                ]
                            },
                            "data": [
                                {
                                    "0": "San Francisco",
                                    "1": "46",
                                    "2": "50",
                                    "3": "0.25",
                                    "4": "1994-11-27"
                                },
                                {
                                    "0": "Kathmandu",
                                    "1": "41",
                                    "2": "42",
                                    "3": "12.0",
                                    "4": "2022-12-11"
                                }
                            ]
                        },
                        "text/html": [
                            "<table>",
                            "<tr><th>city</th><th>temp_lo</th><th>temp_hi</th><th>prcp</th><th>date</th></tr>",
                            "<tr><td>San Francisco</td><td>46</td><td>50</td><td>0.25</td><td>1994-11-27</td></tr>",
                            "<tr><td>Kathmandu</td><td>41</td><td>42</td><td>12.0</td><td>2022-12-11</td></tr>",
                            "</table>"
                        ]
                    }
                }
            ],
            "execution_count": 3
        },
        {
            "cell_type": "markdown",
            "source": [
                "You can write expressions, not just simple column references, in the select list. For example, you can do:\n",
                "\n",
                "```\n",
                "SELECT city, (temp_hi+temp_lo)/2 AS temp_avg, date FROM weather;\n",
                "\n",
                "```"
            ],
            "metadata": {
                "azdata_cell_guid": "0e363f67-f5b0-47c1-96e5-1e0a8ccb8e01"
            },
            "attachments": {}
        },
        {
            "cell_type": "code",
            "source": [
                "SELECT city, (temp_hi + temp_lo) / 2 AS temp_avg, date FROM weather;"
            ],
            "metadata": {
                "azdata_cell_guid": "67c5ed05-5d0f-437d-965b-cc8534d8c748"
            },
            "outputs": [
                {
                    "output_type": "display_data",
                    "data": {
                        "text/html": "(2 row(s) affected)"
                    },
                    "metadata": {}
                },
                {
                    "output_type": "display_data",
                    "data": {
                        "text/html": "Total execution time: 00:00:00.002"
                    },
                    "metadata": {}
                },
                {
                    "output_type": "execute_result",
                    "metadata": {},
                    "execution_count": 4,
                    "data": {
                        "application/vnd.dataresource+json": {
                            "schema": {
                                "fields": [
                                    {
                                        "name": "city"
                                    },
                                    {
                                        "name": "temp_avg"
                                    },
                                    {
                                        "name": "date"
                                    }
                                ]
                            },
                            "data": [
                                {
                                    "0": "San Francisco",
                                    "1": "48",
                                    "2": "1994-11-27"
                                },
                                {
                                    "0": "Kathmandu",
                                    "1": "41",
                                    "2": "2022-12-11"
                                }
                            ]
                        },
                        "text/html": [
                            "<table>",
                            "<tr><th>city</th><th>temp_avg</th><th>date</th></tr>",
                            "<tr><td>San Francisco</td><td>48</td><td>1994-11-27</td></tr>",
                            "<tr><td>Kathmandu</td><td>41</td><td>2022-12-11</td></tr>",
                            "</table>"
                        ]
                    }
                }
            ],
            "execution_count": 4
        },
        {
            "cell_type": "markdown",
            "source": [
                "A query can be “qualified” by adding a `WHERE` clause that specifies which rows are wanted. The `WHERE` clause contains a Boolean (truth value) expression, and only rows for which the Boolean expression is true are returned. The usual Boolean operators (`AND`, `OR`, and `NOT`) are allowed in the qualification. For example, the following retrieves the weather of San Francisco on rainy days:\n",
                "\n",
                "```\n",
                "SELECT * FROM weather\n",
                "    WHERE city = 'San Francisco' AND prcp > 0.0;\n",
                "\n",
                "```\n",
                "```\n",
                "SELECT city, (temp_hi + temp_lo) / 2 as avg_temp FROM weather WHERE city='San Francisco' AND ((temp_hi + temp_lo) / 2) > 20;\n",
                "\n",
                "```"
            ],
            "metadata": {
                "azdata_cell_guid": "b74b5b82-598f-4df7-92f5-dce92f2751f3"
            },
            "attachments": {}
        },
        {
            "cell_type": "code",
            "source": [
                "SELECT * FROM weather WHERE city = 'Kathmandu' AND prcp > 0.0;\n",
                "SELECT city, (temp_hi + temp_lo) / 2 as avg_temp FROM weather WHERE \n",
                "city='San Francisco' AND ((temp_hi + temp_lo) / 2) > 20;"
            ],
            "metadata": {
                "azdata_cell_guid": "8774e865-203e-461c-a78b-db3561f1e222"
            },
            "outputs": [
                {
                    "output_type": "display_data",
                    "data": {
                        "text/html": "(1 row(s) affected)"
                    },
                    "metadata": {}
                },
                {
                    "output_type": "display_data",
                    "data": {
                        "text/html": "(1 row(s) affected)"
                    },
                    "metadata": {}
                },
                {
                    "output_type": "display_data",
                    "data": {
                        "text/html": "Total execution time: 00:00:00.003"
                    },
                    "metadata": {}
                },
                {
                    "output_type": "execute_result",
                    "metadata": {},
                    "execution_count": 8,
                    "data": {
                        "application/vnd.dataresource+json": {
                            "schema": {
                                "fields": [
                                    {
                                        "name": "city"
                                    },
                                    {
                                        "name": "temp_lo"
                                    },
                                    {
                                        "name": "temp_hi"
                                    },
                                    {
                                        "name": "prcp"
                                    },
                                    {
                                        "name": "date"
                                    }
                                ]
                            },
                            "data": [
                                {
                                    "0": "Kathmandu",
                                    "1": "41",
                                    "2": "42",
                                    "3": "12.0",
                                    "4": "2022-12-11"
                                }
                            ]
                        },
                        "text/html": [
                            "<table>",
                            "<tr><th>city</th><th>temp_lo</th><th>temp_hi</th><th>prcp</th><th>date</th></tr>",
                            "<tr><td>Kathmandu</td><td>41</td><td>42</td><td>12.0</td><td>2022-12-11</td></tr>",
                            "</table>"
                        ]
                    }
                },
                {
                    "output_type": "execute_result",
                    "metadata": {},
                    "execution_count": 8,
                    "data": {
                        "application/vnd.dataresource+json": {
                            "schema": {
                                "fields": [
                                    {
                                        "name": "city"
                                    },
                                    {
                                        "name": "avg_temp"
                                    }
                                ]
                            },
                            "data": [
                                {
                                    "0": "San Francisco",
                                    "1": "48"
                                }
                            ]
                        },
                        "text/html": [
                            "<table>",
                            "<tr><th>city</th><th>avg_temp</th></tr>",
                            "<tr><td>San Francisco</td><td>48</td></tr>",
                            "</table>"
                        ]
                    }
                }
            ],
            "execution_count": 8
        },
        {
            "cell_type": "code",
            "source": [
                "-- ORDER BY\n",
                "SELECT  DISTINCT name FROM cities ORDER BY name;\n",
                "SELECT * FROM weather ORDER BY city;"
            ],
            "metadata": {
                "azdata_cell_guid": "0b192915-c865-4825-b758-028fae8c66f9"
            },
            "outputs": [
                {
                    "output_type": "display_data",
                    "data": {
                        "text/html": "(7 row(s) affected)"
                    },
                    "metadata": {}
                },
                {
                    "output_type": "display_data",
                    "data": {
                        "text/html": "(2 row(s) affected)"
                    },
                    "metadata": {}
                },
                {
                    "output_type": "display_data",
                    "data": {
                        "text/html": "Total execution time: 00:00:00.003"
                    },
                    "metadata": {}
                },
                {
                    "output_type": "execute_result",
                    "metadata": {},
                    "execution_count": 18,
                    "data": {
                        "application/vnd.dataresource+json": {
                            "schema": {
                                "fields": [
                                    {
                                        "name": "name"
                                    }
                                ]
                            },
                            "data": [
                                {
                                    "0": "Baunia"
                                },
                                {
                                    "0": "Chuha"
                                },
                                {
                                    "0": "Kathmandu"
                                },
                                {
                                    "0": "Kauwapur"
                                },
                                {
                                    "0": "Lamki"
                                },
                                {
                                    "0": "Motipur"
                                },
                                {
                                    "0": "San Francisco"
                                }
                            ]
                        },
                        "text/html": [
                            "<table>",
                            "<tr><th>name</th></tr>",
                            "<tr><td>Baunia</td></tr>",
                            "<tr><td>Chuha</td></tr>",
                            "<tr><td>Kathmandu</td></tr>",
                            "<tr><td>Kauwapur</td></tr>",
                            "<tr><td>Lamki</td></tr>",
                            "<tr><td>Motipur</td></tr>",
                            "<tr><td>San Francisco</td></tr>",
                            "</table>"
                        ]
                    }
                },
                {
                    "output_type": "execute_result",
                    "metadata": {},
                    "execution_count": 18,
                    "data": {
                        "application/vnd.dataresource+json": {
                            "schema": {
                                "fields": [
                                    {
                                        "name": "city"
                                    },
                                    {
                                        "name": "temp_lo"
                                    },
                                    {
                                        "name": "temp_hi"
                                    },
                                    {
                                        "name": "prcp"
                                    },
                                    {
                                        "name": "date"
                                    }
                                ]
                            },
                            "data": [
                                {
                                    "0": "Kathmandu",
                                    "1": "41",
                                    "2": "42",
                                    "3": "12.0",
                                    "4": "2022-12-11"
                                },
                                {
                                    "0": "San Francisco",
                                    "1": "46",
                                    "2": "50",
                                    "3": "0.25",
                                    "4": "1994-11-27"
                                }
                            ]
                        },
                        "text/html": [
                            "<table>",
                            "<tr><th>city</th><th>temp_lo</th><th>temp_hi</th><th>prcp</th><th>date</th></tr>",
                            "<tr><td>Kathmandu</td><td>41</td><td>42</td><td>12.0</td><td>2022-12-11</td></tr>",
                            "<tr><td>San Francisco</td><td>46</td><td>50</td><td>0.25</td><td>1994-11-27</td></tr>",
                            "</table>"
                        ]
                    }
                }
            ],
            "execution_count": 18
        },
        {
            "cell_type": "markdown",
            "source": [
                "[<span class=\"para\" style=\"box-sizing: border-box; position: relative; font-size: 12px; line-height: 0; vertical-align: baseline; top: -0.5em;\">[2]</span>](https://www.postgresql.org/docs/14/tutorial-select.html#id-1.4.4.6.2.10) While `SELECT *` is useful for off-the-cuff queries, it is widely considered bad style in production code, since adding a column to the table would change the results.\n",
                "[<span class=\"para\" style=\"box-sizing: border-box; position: relative; font-size: 12px; line-height: 0; vertical-align: baseline; top: -0.5em;\">[3]</span>](https://www.postgresql.org/docs/14/tutorial-select.html#id-1.4.4.6.6.7) In some database systems, including older versions of PostgreSQL, the implementation of `DISTINCT` automatically orders the rows and so `ORDER BY` is unnecessary. But this is not required by the SQL standard, and current PostgreSQL does not guarantee that `DISTINCT` causes the rows to be ordered."
            ],
            "metadata": {
                "azdata_cell_guid": "1f08163e-9e5a-486d-bf07-e1b4584f3180"
            }
        }
    ]
}