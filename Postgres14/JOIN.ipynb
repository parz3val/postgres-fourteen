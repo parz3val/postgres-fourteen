{
    "metadata": {
        "kernelspec": {
            "name": "SQL",
            "display_name": "SQL",
            "language": "sql"
        },
        "language_info": {
            "name": "sql",
            "version": ""
        }
    },
    "nbformat_minor": 2,
    "nbformat": 4,
    "cells": [
        {
            "cell_type": "markdown",
            "source": [
                "**Joining Tables**\n",
                "\n",
                "Queries can access multiple tables at once, or access the same table in such a way that multiple rows of the table are being processed at the same time. Queries that access multiple tables (or multiple instances of the same table) at one time are called join queries. They combine rows from one table with rows from a second table, with an expression specifying which rows are to be paired. For example, to return all the weather records together with the location of the associated city, the database needs to compare the city column of each row of the weather table with the name column of all rows in the cities table, and select the pairs of rows where these values match.\\[4\\] This would be accomplished by the following query:"
            ],
            "metadata": {
                "azdata_cell_guid": "fa97e00f-7d5b-47cf-a550-7ac9366d9012"
            },
            "attachments": {}
        },
        {
            "cell_type": "code",
            "source": [
                "SELECT city, (temp_lo + temp_hi) / 2 AS avg_temp, location FROM weather JOIN cities ON city = name;"
            ],
            "metadata": {
                "azdata_cell_guid": "3dda1c8c-c2c5-452a-9d82-8c4001b4d7b5"
            },
            "outputs": [
                {
                    "output_type": "display_data",
                    "data": {
                        "text/html": "(4 row(s) affected)"
                    },
                    "metadata": {}
                },
                {
                    "output_type": "display_data",
                    "data": {
                        "text/html": "Total execution time: 00:00:00.002"
                    },
                    "metadata": {}
                },
                {
                    "output_type": "execute_result",
                    "metadata": {},
                    "execution_count": 4,
                    "data": {
                        "application/vnd.dataresource+json": {
                            "schema": {
                                "fields": [
                                    {
                                        "name": "city"
                                    },
                                    {
                                        "name": "avg_temp"
                                    },
                                    {
                                        "name": "location"
                                    }
                                ]
                            },
                            "data": [
                                {
                                    "0": "San Francisco",
                                    "1": "48",
                                    "2": "(-194,53)"
                                },
                                {
                                    "0": "San Francisco",
                                    "1": "48",
                                    "2": "(-194,53)"
                                },
                                {
                                    "0": "Kathmandu",
                                    "1": "41",
                                    "2": "(190,193)"
                                },
                                {
                                    "0": "Kathmandu",
                                    "1": "41",
                                    "2": "(190,193)"
                                }
                            ]
                        },
                        "text/html": [
                            "<table>",
                            "<tr><th>city</th><th>avg_temp</th><th>location</th></tr>",
                            "<tr><td>San Francisco</td><td>48</td><td>(-194,53)</td></tr>",
                            "<tr><td>San Francisco</td><td>48</td><td>(-194,53)</td></tr>",
                            "<tr><td>Kathmandu</td><td>41</td><td>(190,193)</td></tr>",
                            "<tr><td>Kathmandu</td><td>41</td><td>(190,193)</td></tr>",
                            "</table>"
                        ]
                    }
                }
            ],
            "execution_count": 4
        },
        {
            "cell_type": "markdown",
            "source": [
                "Since the columns all had different names, the parser automatically found which table they belong to. If there were duplicate column names in the two tables you'd need to _qualify_ the column names to show which one you meant, as in:\n",
                "\n",
                "```\n",
                "SELECT weather.city, weather.temp_lo, weather.temp_hi,\n",
                "       weather.prcp, weather.date, cities.location\n",
                "    FROM weather JOIN cities ON weather.city = cities.name;\n",
                "\n",
                "```"
            ],
            "metadata": {
                "azdata_cell_guid": "38fcddd5-6af4-443b-8c68-3f2b76c00112"
            },
            "attachments": {}
        },
        {
            "cell_type": "code",
            "source": [
                "SELECT weather.city, weather.temp_lo, weather.temp_hi, weather.prcp,\n",
                "cities.location FROM weather JOIN cities ON weather.city = cities.name;\n",
                "\n",
                "-- we can also alias the tables\n",
                "SELECT w.city, (w.temp_lo + w.temp_hi) / 2 AS avg_temp, c.location \n",
                "FROM weather w JOIN CITIES c ON w.city = c.name;"
            ],
            "metadata": {
                "azdata_cell_guid": "9b1f0298-f532-4637-9d93-37ecf8dc5908"
            },
            "outputs": [
{
    "output_type": "display_data",
    "data": {
        "text/html": "(4 row(s) affected)"
    },
    "metadata": {}
}, {
    "output_type": "display_data",
    "data": {
        "text/html": "(4 row(s) affected)"
    },
    "metadata": {}
}, {
    "output_type": "display_data",
    "data": {
        "text/html": "Total execution time: 00:00:00.004"
    },
    "metadata": {}
}, {
    "output_type": "execute_result",
    "metadata": {},
    "execution_count": 6,
    "data": {
        "application/vnd.dataresource+json": {
            "schema": {
                "fields": [
                    {
                        "name": "city"
                    },
                    {
                        "name": "temp_lo"
                    },
                    {
                        "name": "temp_hi"
                    },
                    {
                        "name": "prcp"
                    },
                    {
                        "name": "location"
                    }
                ]
            },
            "data": [
                {
                    "0": "San Francisco",
                    "1": "46",
                    "2": "50",
                    "3": "0.25",
                    "4": "(-194,53)"
                },
                {
                    "0": "San Francisco",
                    "1": "46",
                    "2": "50",
                    "3": "0.25",
                    "4": "(-194,53)"
                },
                {
                    "0": "Kathmandu",
                    "1": "41",
                    "2": "42",
                    "3": "12.0",
                    "4": "(190,193)"
                },
                {
                    "0": "Kathmandu",
                    "1": "41",
                    "2": "42",
                    "3": "12.0",
                    "4": "(190,193)"
                }
            ]
        },
        "text/html": [
            "<table>",
            "<tr><th>city</th><th>temp_lo</th><th>temp_hi</th><th>prcp</th><th>location</th></tr>",
            "<tr><td>San Francisco</td><td>46</td><td>50</td><td>0.25</td><td>(-194,53)</td></tr>",
            "<tr><td>San Francisco</td><td>46</td><td>50</td><td>0.25</td><td>(-194,53)</td></tr>",
            "<tr><td>Kathmandu</td><td>41</td><td>42</td><td>12.0</td><td>(190,193)</td></tr>",
            "<tr><td>Kathmandu</td><td>41</td><td>42</td><td>12.0</td><td>(190,193)</td></tr>",
            "</table>"
        ]
    }
}, {
    "output_type": "execute_result",
    "metadata": {},
    "execution_count": 6,
    "data": {
        "application/vnd.dataresource+json": {
            "schema": {
                "fields": [
                    {
                        "name": "city"
                    },
                    {
                        "name": "avg_temp"
                    },
                    {
                        "name": "location"
                    }
                ]
            },
            "data": [
                {
                    "0": "San Francisco",
                    "1": "48",
                    "2": "(-194,53)"
                },
                {
                    "0": "San Francisco",
                    "1": "48",
                    "2": "(-194,53)"
                },
                {
                    "0": "Kathmandu",
                    "1": "41",
                    "2": "(190,193)"
                },
                {
                    "0": "Kathmandu",
                    "1": "41",
                    "2": "(190,193)"
                }
            ]
        },
        "text/html": [
            "<table>",
            "<tr><th>city</th><th>avg_temp</th><th>location</th></tr>",
            "<tr><td>San Francisco</td><td>48</td><td>(-194,53)</td></tr>",
            "<tr><td>San Francisco</td><td>48</td><td>(-194,53)</td></tr>",
            "<tr><td>Kathmandu</td><td>41</td><td>(190,193)</td></tr>",
            "<tr><td>Kathmandu</td><td>41</td><td>(190,193)</td></tr>",
            "</table>"
        ]
    }
}
],
            "execution_count": 6
        }
    ]
}