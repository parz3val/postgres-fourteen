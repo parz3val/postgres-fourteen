{
    "metadata": {
        "kernelspec": {
            "name": "SQL",
            "display_name": "SQL",
            "language": "sql"
        },
        "language_info": {
            "name": "sql",
            "version": ""
        }
    },
    "nbformat_minor": 2,
    "nbformat": 4,
    "cells": [
        {
            "cell_type": "markdown",
            "source": [
                "**Postgresql 14**\n",
                "\n",
                "PostgreSQL is an object-relational database management system (ORDBMS) based on [POSTGRES, Version 4.2](https://dsf.berkeley.edu/postgres.html), developed at the University of California at Berkeley Computer Science Department. POSTGRES pioneered many concepts that only became available in some commercial database systems much later.\n",
                "\n",
                "PostgreSQL is an open-source descendant of this original Berkeley code. It supports a large part of the SQL standard and offers many modern features:\n",
                "\n",
                "- complex queries\n",
                "- foreign keys\n",
                "- triggers\n",
                "- updatable views\n",
                "- transactional integrity\n",
                "- multiversion concurrency control\n",
                "\n",
                "Also, PostgreSQL can be extended by the user in many ways, for example by adding new\n",
                "\n",
                "- data types\n",
                "- functions\n",
                "- operators\n",
                "- aggregate functions\n",
                "- index methods\n",
                "- procedural languages\n",
                "\n",
                "And because of the liberal license, PostgreSQL can be used, modified, and distributed by anyone free of charge for any purpose, be it private, commercial, or academic."
            ],
            "metadata": {
                "azdata_cell_guid": "d7eab31a-a380-4cfc-9948-3e09144935b1"
            },
            "attachments": {}
        },
        {
            "cell_type": "markdown",
            "source": [
                "**Conventions**\n",
                "\n",
                "The following conventions are used in the synopsis of a command: brackets (`[` and `]`) indicate optional parts. Braces (`{` and `}`) and vertical lines (`|`) indicate that you must choose one alternative. Dots (`...`) mean that the preceding element can be repeated. All other symbols, including parentheses, should be taken literally.\n",
                "\n",
                "Where it enhances the clarity, SQL commands are preceded by the prompt `=>`, and shell commands are preceded by the prompt `$`. Normally, prompts are not shown, though.\n",
                "\n",
                "An _administrator_ is generally a person who is in charge of installing and running the server. A _user_ could be anyone who is using, or wants to use, any part of the PostgreSQL system. These terms should not be interpreted too narrowly; this book does not have fixed presumptions about system administration procedures."
            ],
            "metadata": {
                "azdata_cell_guid": "4b4476cf-67ab-4e12-90d0-5efb963e0da1"
            },
            "attachments": {}
        }
    ]
}