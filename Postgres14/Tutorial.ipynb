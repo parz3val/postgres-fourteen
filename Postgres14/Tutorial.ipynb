{
    "metadata": {
        "kernelspec": {
            "name": "SQL",
            "display_name": "SQL",
            "language": "sql"
        },
        "language_info": {
            "name": "sql",
            "version": ""
        }
    },
    "nbformat_minor": 2,
    "nbformat": 4,
    "cells": [
        {
            "cell_type": "markdown",
            "source": [
                "**Creating a Database**\n",
                "\n",
                "The first test to see whether you can access the database server is to try to create a database. A running PostgreSQL server can manage many databases. Typically, a separate database is used for each project or for each user.\n",
                "\n",
                "Possibly, your site administrator has already created a database for your use. In that case you can omit this step and skip ahead to the next section.\n",
                "\n",
                "To create a new database, in this example named `mydb`, you use the following command:"
            ],
            "metadata": {
                "azdata_cell_guid": "8456d0c9-e2be-499f-aa54-d0e2225a6e3b"
            },
            "attachments": {}
        },
        {
            "cell_type": "code",
            "source": [
                "CREATE DATABASE mydb;"
            ],
            "metadata": {
                "azdata_cell_guid": "be58f709-15ad-480c-bd1c-86903536117e"
            },
            "outputs": [
                {
                    "output_type": "display_data",
                    "data": {
                        "text/html": "Commands completed successfully"
                    },
                    "metadata": {}
                },
                {
                    "output_type": "display_data",
                    "data": {
                        "text/html": "Total execution time: 00:00:00.183"
                    },
                    "metadata": {}
                }
            ],
            "execution_count": 4
        },
        {
            "cell_type": "markdown",
            "source": [
                "**Drop database**\n",
                "\n",
                "Running the following command can drop the database \\`mydb\\`"
            ],
            "metadata": {
                "azdata_cell_guid": "1d8e05b9-a2a2-4534-b2ab-a995f1ddd2a6"
            },
            "attachments": {}
        },
        {
            "cell_type": "code",
            "source": [
                "DROP DATABASE mydb;"
            ],
            "metadata": {
                "azdata_cell_guid": "7e2b2988-908d-4391-b36f-ca6d89a64b80"
            },
            "outputs": [
                {
                    "output_type": "display_data",
                    "data": {
                        "text/html": "Commands completed successfully"
                    },
                    "metadata": {}
                },
                {
                    "output_type": "display_data",
                    "data": {
                        "text/html": "Total execution time: 00:00:00.044"
                    },
                    "metadata": {}
                }
            ],
            "execution_count": 5
        },
        {
            "cell_type": "code",
            "source": [
                "CREATE DATABASE testdb;"
            ],
            "metadata": {
                "azdata_cell_guid": "86a98484-7313-49ae-8666-9d95e73da1e8"
            },
            "outputs": [
                {
                    "output_type": "error",
                    "evalue": "database \"testdb\" already exists",
                    "ename": "",
                    "traceback": []
                },
                {
                    "output_type": "display_data",
                    "data": {
                        "text/html": "Total execution time: 00:00:00.001"
                    },
                    "metadata": {}
                }
            ],
            "execution_count": 7
        },
        {
            "cell_type": "markdown",
            "source": [
                "##  Creating a New Table\n",
                "\n",
                "[]()\n",
                "\n",
                "You can create a new table by specifying the table name, along with all column names and their types:"
            ],
            "metadata": {
                "azdata_cell_guid": "60e214f1-5e3e-441f-8d0b-c32663fbf738"
            },
            "attachments": {}
        },
        {
            "cell_type": "code",
            "source": [
                "CREATE TABLE cities (\n",
                "    name            varchar(80),\n",
                "    location        point\n",
                ");"
            ],
            "metadata": {
                "azdata_cell_guid": "0c2d5543-f56c-406f-9515-60a63ac72712"
            },
            "outputs": [
                {
                    "output_type": "display_data",
                    "data": {
                        "text/html": "Commands completed successfully"
                    },
                    "metadata": {}
                },
                {
                    "output_type": "display_data",
                    "data": {
                        "text/html": "Total execution time: 00:00:00.067"
                    },
                    "metadata": {}
                }
            ],
            "execution_count": 17
        },
        {
            "cell_type": "code",
            "source": [
                "CREATE TABLE weather (\n",
                "    city            varchar(80),\n",
                "    temp_lo         int,           -- low temperature\n",
                "    temp_hi         int,           -- high temperature\n",
                "    prcp            real,          -- precipitation\n",
                "    date            date\n",
                ");"
            ],
            "metadata": {
                "azdata_cell_guid": "d3d937d4-cd8e-4333-84ff-30df9246a191"
            },
            "outputs": [
                {
                    "output_type": "display_data",
                    "data": {
                        "text/html": "Commands completed successfully"
                    },
                    "metadata": {}
                },
                {
                    "output_type": "display_data",
                    "data": {
                        "text/html": "Total execution time: 00:00:00.004"
                    },
                    "metadata": {}
                }
            ],
            "execution_count": 18
        },
        {
            "cell_type": "markdown",
            "source": [
                "**Dropping Tables**\n",
                "\n",
                "Tables can be dropped with the command \\`DROP TABLE table\\_name\\`.  \n",
                "Let's create a new test table and drop it."
            ],
            "metadata": {
                "azdata_cell_guid": "ba9985c9-dbed-4783-b1bf-2adc64905d18"
            },
            "attachments": {}
        },
        {
            "cell_type": "code",
            "source": [
                "CREATE TABLE test_table (\n",
                "    id int,\n",
                "    test_name varchar(100),\n",
                "    test_title varchar(10)\n",
                ");\n",
                "DROP TABLE test_table;"
            ],
            "metadata": {
                "azdata_cell_guid": "a8e40ea4-a341-424a-86e6-5c608d38452b"
            },
            "outputs": [
                {
                    "output_type": "display_data",
                    "data": {
                        "text/html": "Commands completed successfully"
                    },
                    "metadata": {}
                },
                {
                    "output_type": "display_data",
                    "data": {
                        "text/html": "Commands completed successfully"
                    },
                    "metadata": {}
                },
                {
                    "output_type": "display_data",
                    "data": {
                        "text/html": "Total execution time: 00:00:00.015"
                    },
                    "metadata": {}
                }
            ],
            "execution_count": 21
        },
        {
            "cell_type": "markdown",
            "source": [
                "**Adding data into the row:**\n",
                "\n",
                "INSERT INTO command can be used to insert data into the table. \n",
                "\n",
                "Let's enter some data into our city table."
            ],
            "metadata": {
                "azdata_cell_guid": "c269db00-c0d5-4223-92f7-f31c3a6f9b94"
            },
            "attachments": {}
        },
        {
            "cell_type": "code",
            "source": [
                "INSERT INTO cities VALUES ('San Francisco', '(-194.0, 53.0)'); -- insert_into table values (by_order)\n",
                "INSERT INTO cities VALUES ('Kathmandu', '(190,193)');\n",
                "INSERT INTO weather VALUES ('San Francisco', 46, 50, 0.25, '1994-11-27');"
            ],
            "metadata": {
                "azdata_cell_guid": "621bf594-cd25-4acd-b790-de0355832dc9"
            },
            "outputs": [
                {
                    "output_type": "display_data",
                    "data": {
                        "text/html": "Commands completed successfully"
                    },
                    "metadata": {}
                },
                {
                    "output_type": "display_data",
                    "data": {
                        "text/html": "Commands completed successfully"
                    },
                    "metadata": {}
                },
                {
                    "output_type": "display_data",
                    "data": {
                        "text/html": "Commands completed successfully"
                    },
                    "metadata": {}
                },
                {
                    "output_type": "display_data",
                    "data": {
                        "text/html": "Total execution time: 00:00:00.003"
                    },
                    "metadata": {}
                }
            ],
            "execution_count": 24
        },
        {
            "cell_type": "code",
            "source": [
                "-- we can check if our data is inserted.\n",
                "SELECT * FROM cities; -- we can fetch data with select. more on this later."
            ],
            "metadata": {
                "azdata_cell_guid": "83c06696-2e3d-4761-b793-9a98157388c8"
            },
            "outputs": [
                {
                    "output_type": "display_data",
                    "data": {
                        "text/html": "(4 row(s) affected)"
                    },
                    "metadata": {}
                },
                {
                    "output_type": "display_data",
                    "data": {
                        "text/html": "Total execution time: 00:00:00.001"
                    },
                    "metadata": {}
                },
                {
                    "output_type": "execute_result",
                    "metadata": {},
                    "execution_count": 25,
                    "data": {
                        "application/vnd.dataresource+json": {
                            "schema": {
                                "fields": [
                                    {
                                        "name": "name"
                                    },
                                    {
                                        "name": "location"
                                    }
                                ]
                            },
                            "data": [
                                {
                                    "0": "San Francisco",
                                    "1": "(-194,53)"
                                },
                                {
                                    "0": "Kathmandu",
                                    "1": "(190,193)"
                                },
                                {
                                    "0": "San Francisco",
                                    "1": "(-194,53)"
                                },
                                {
                                    "0": "Kathmandu",
                                    "1": "(190,193)"
                                }
                            ]
                        },
                        "text/html": [
                            "<table>",
                            "<tr><th>name</th><th>location</th></tr>",
                            "<tr><td>San Francisco</td><td>(-194,53)</td></tr>",
                            "<tr><td>Kathmandu</td><td>(190,193)</td></tr>",
                            "<tr><td>San Francisco</td><td>(-194,53)</td></tr>",
                            "<tr><td>Kathmandu</td><td>(190,193)</td></tr>",
                            "</table>"
                        ]
                    }
                }
            ],
            "execution_count": 25
        },
        {
            "cell_type": "code",
            "source": [
                "-- we can also use the colum names explicitly to enter the values\n",
                "INSERT INTO cities (name, location) VALUES ('Lamki', '(1000,1000)');\n",
                ""
            ],
            "metadata": {
                "azdata_cell_guid": "e7375adc-0f73-4d24-a653-79eb755bf820"
            },
            "outputs": [
                {
                    "output_type": "display_data",
                    "data": {
                        "text/html": "Commands completed successfully"
                    },
                    "metadata": {}
                },
                {
                    "output_type": "display_data",
                    "data": {
                        "text/html": "Total execution time: 00:00:00.001"
                    },
                    "metadata": {}
                }
            ],
            "execution_count": 26
        },
        {
            "cell_type": "code",
            "source": [
                "-- let's check the weather table \n",
                "SELECT * from weather;\n",
                "-- we can use explicit naming to enter data\n",
                "-- this way we don't need to remember order\n",
                "INSERT INTO weather (city, temp_lo, temp_hi, prcp, date) VALUES ('Kathmandu', 41,42,12, '2022-12-11');\n",
                ""
            ],
            "metadata": {
                "azdata_cell_guid": "9c174a09-c480-4ed6-b780-d4a5dd34c4a5"
            },
            "outputs": [
                {
                    "output_type": "display_data",
                    "data": {
                        "text/html": "(1 row(s) affected)"
                    },
                    "metadata": {}
                },
                {
                    "output_type": "display_data",
                    "data": {
                        "text/html": "Commands completed successfully"
                    },
                    "metadata": {}
                },
                {
                    "output_type": "display_data",
                    "data": {
                        "text/html": "Total execution time: 00:00:00.002"
                    },
                    "metadata": {}
                },
                {
                    "output_type": "execute_result",
                    "metadata": {},
                    "execution_count": 28,
                    "data": {
                        "application/vnd.dataresource+json": {
                            "schema": {
                                "fields": [
                                    {
                                        "name": "city"
                                    },
                                    {
                                        "name": "temp_lo"
                                    },
                                    {
                                        "name": "temp_hi"
                                    },
                                    {
                                        "name": "prcp"
                                    },
                                    {
                                        "name": "date"
                                    }
                                ]
                            },
                            "data": [
                                {
                                    "0": "San Francisco",
                                    "1": "46",
                                    "2": "50",
                                    "3": "0.25",
                                    "4": "1994-11-27"
                                }
                            ]
                        },
                        "text/html": [
                            "<table>",
                            "<tr><th>city</th><th>temp_lo</th><th>temp_hi</th><th>prcp</th><th>date</th></tr>",
                            "<tr><td>San Francisco</td><td>46</td><td>50</td><td>0.25</td><td>1994-11-27</td></tr>",
                            "</table>"
                        ]
                    }
                }
            ],
            "execution_count": 28
        },
        {
            "cell_type": "code",
            "source": [
                "-- let's check our data\n",
                "select * from weather;"
            ],
            "metadata": {
                "azdata_cell_guid": "e14ade7b-f6dc-4036-971c-f650903dc2e8"
            },
            "outputs": [
                {
                    "output_type": "display_data",
                    "data": {
                        "text/html": "(2 row(s) affected)"
                    },
                    "metadata": {}
                },
                {
                    "output_type": "display_data",
                    "data": {
                        "text/html": "Total execution time: 00:00:00.001"
                    },
                    "metadata": {}
                },
                {
                    "output_type": "execute_result",
                    "metadata": {},
                    "execution_count": 34,
                    "data": {
                        "application/vnd.dataresource+json": {
                            "schema": {
                                "fields": [
                                    {
                                        "name": "city"
                                    },
                                    {
                                        "name": "temp_lo"
                                    },
                                    {
                                        "name": "temp_hi"
                                    },
                                    {
                                        "name": "prcp"
                                    },
                                    {
                                        "name": "date"
                                    }
                                ]
                            },
                            "data": [
                                {
                                    "0": "San Francisco",
                                    "1": "46",
                                    "2": "50",
                                    "3": "0.25",
                                    "4": "1994-11-27"
                                },
                                {
                                    "0": "Kathmandu",
                                    "1": "41",
                                    "2": "42",
                                    "3": "12.0",
                                    "4": "2022-12-11"
                                }
                            ]
                        },
                        "text/html": [
                            "<table>",
                            "<tr><th>city</th><th>temp_lo</th><th>temp_hi</th><th>prcp</th><th>date</th></tr>",
                            "<tr><td>San Francisco</td><td>46</td><td>50</td><td>0.25</td><td>1994-11-27</td></tr>",
                            "<tr><td>Kathmandu</td><td>41</td><td>42</td><td>12.0</td><td>2022-12-11</td></tr>",
                            "</table>"
                        ]
                    }
                }
            ],
            "execution_count": 34
        },
        {
            "cell_type": "markdown",
            "source": [
                "**Copy**\n",
                "\n",
                "Copy can be used to insert data from txt directly into the table.\n",
                "\n",
                "It is much faster, because it is optimised for bulk despite being less flexible"
            ],
            "metadata": {
                "azdata_cell_guid": "16afe720-cf3c-4756-9b20-74436002613b"
            },
            "attachments": {}
        },
        {
            "cell_type": "code",
            "source": [
                "COPY cities (name, location) FROM '/Users/harriskunwar/Documents/postgres-fourteen/Postgres14/cities.txt' (FORMAT csv, HEADER, DELIMITER ';');"
            ],
            "metadata": {
                "azdata_cell_guid": "30e3fba6-228a-4d65-97d9-c556838f2ece"
            },
            "outputs": [
                {
                    "output_type": "display_data",
                    "data": {
                        "text/html": "Commands completed successfully"
                    },
                    "metadata": {}
                },
                {
                    "output_type": "display_data",
                    "data": {
                        "text/html": "Total execution time: 00:00:00.001"
                    },
                    "metadata": {}
                }
            ],
            "execution_count": 48
        },
        {
            "cell_type": "code",
            "source": [
                "select * from cities limit 4 offset 20;"
            ],
            "metadata": {
                "azdata_cell_guid": "eff540f4-5dc4-44e7-afa1-16e8c3a2ac6c"
            },
            "outputs": [
{
    "output_type": "display_data",
    "data": {
        "text/html": "(4 row(s) affected)"
    },
    "metadata": {}
}, {
    "output_type": "display_data",
    "data": {
        "text/html": "Total execution time: 00:00:00.001"
    },
    "metadata": {}
}, {
    "output_type": "execute_result",
    "metadata": {},
    "execution_count": 53,
    "data": {
        "application/vnd.dataresource+json": {
            "schema": {
                "fields": [
                    {
                        "name": "name"
                    },
                    {
                        "name": "location"
                    }
                ]
            },
            "data": [
                {
                    "0": "Chuha",
                    "1": "(100,500)"
                },
                {
                    "0": "Kauwapur",
                    "1": "(100,500)"
                },
                {
                    "0": "Baunia",
                    "1": "(100,500)"
                },
                {
                    "0": "Chuha",
                    "1": "(100,500)"
                }
            ]
        },
        "text/html": [
            "<table>",
            "<tr><th>name</th><th>location</th></tr>",
            "<tr><td>Chuha</td><td>(100,500)</td></tr>",
            "<tr><td>Kauwapur</td><td>(100,500)</td></tr>",
            "<tr><td>Baunia</td><td>(100,500)</td></tr>",
            "<tr><td>Chuha</td><td>(100,500)</td></tr>",
            "</table>"
        ]
    }
}
],
            "execution_count": 53
        }
    ]
}